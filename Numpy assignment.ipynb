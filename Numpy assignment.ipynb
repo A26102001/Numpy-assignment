{
 "cells": [
  {
   "cell_type": "markdown",
   "id": "7730a1d0",
   "metadata": {},
   "source": [
    "#### 1.Write a function so that the columns of the output matrix are powers of the input vector. The order of the powers is determined by the increasing boolean argument. Specifically, when increasing is False, the i-th output column is the input vector raised element-wise to the power of N - i - 1. HINT: Such a matrix with a geometric progression in each row is named for Alexandre-Theophile Vandermonde.\n",
    "\n",
    "\n",
    "\n",
    "\n",
    "\n",
    "\n"
   ]
  },
  {
   "cell_type": "code",
   "execution_count": 1,
   "id": "656dc0af",
   "metadata": {},
   "outputs": [],
   "source": [
    "import numpy as np"
   ]
  },
  {
   "cell_type": "code",
   "execution_count": 14,
   "id": "45acebdb",
   "metadata": {},
   "outputs": [
    {
     "data": {
      "text/plain": [
       "array([[ 64,  16,   4,   1],\n",
       "       [125,  25,   5,   1],\n",
       "       [216,  36,   6,   1],\n",
       "       [343,  49,   7,   1]], dtype=int32)"
      ]
     },
     "execution_count": 14,
     "metadata": {},
     "output_type": "execute_result"
    }
   ],
   "source": [
    "# Creating a matrix with output columns based on input vector N\n",
    "arry = np.array ([4,5,6,7])\n",
    "N=4\n",
    "matrix=np.column_stack([arry**(N-i-1) for i in range(N)])\n",
    "matrix"
   ]
  },
  {
   "cell_type": "code",
   "execution_count": 15,
   "id": "17fdec50",
   "metadata": {},
   "outputs": [
    {
     "data": {
      "text/plain": [
       "array([[ 64,  16,   4,   1],\n",
       "       [125,  25,   5,   1],\n",
       "       [216,  36,   6,   1],\n",
       "       [343,  49,   7,   1]])"
      ]
     },
     "execution_count": 15,
     "metadata": {},
     "output_type": "execute_result"
    }
   ],
   "source": [
    "# Similar matrix can be created by np.vander function \n",
    "matrix_van=np.vander(arry,N,increasing=False)\n",
    "matrix_van"
   ]
  },
  {
   "cell_type": "code",
   "execution_count": 16,
   "id": "97cbad6d",
   "metadata": {},
   "outputs": [
    {
     "data": {
      "text/plain": [
       "12.000000000000314"
      ]
     },
     "execution_count": 16,
     "metadata": {},
     "output_type": "execute_result"
    }
   ],
   "source": [
    "# Determinant of both the matrix are same\n",
    "np.linalg.det(matrix)"
   ]
  },
  {
   "cell_type": "code",
   "execution_count": 18,
   "id": "384ec28f",
   "metadata": {},
   "outputs": [
    {
     "data": {
      "text/plain": [
       "12.000000000000314"
      ]
     },
     "execution_count": 18,
     "metadata": {},
     "output_type": "execute_result"
    }
   ],
   "source": [
    "np.linalg.det(matrix_van)"
   ]
  },
  {
   "cell_type": "markdown",
   "id": "47c99481",
   "metadata": {},
   "source": [
    "#### 2. Given sequence is defined as follows:\n",
    "#### sequence of n values x1, x2, ..., xn and a window size k>0, the k-th moving average of\n",
    "#### the given sequence is defined as follows:\n",
    "#### The moving average sequence has n-k+1 elements as shown below.\n",
    "#### The moving averages with k=4 of a ten-value sequence (n=10) is shown below\n",
    "#### i 1 2 3 4 5 6 7 8 9 10\n",
    "#### ===== == == == == == == == == == ==\n",
    "#### Input 10 20 30 40 50 60 70 80 90 100\n",
    "#### y1 25 = (10+20+30+40)/4\n",
    "#### y2 35 = (20+30+40+50)/4\n",
    "#### y3 45 = (30+40+50+60)/4\n",
    "#### y4 55 = (40+50+60+70)/4\n",
    "#### y5 65 = (50+60+70+80)/4\n",
    "#### y6 75 = (60+70+80+90)/4\n",
    "#### y7 85 = (70+80+90+100)/4\n",
    "#### Thus, the moving average sequence has n-k+1=10-4+1=7 values.\n",
    "#### Write a function to find moving average in an array over a window:\n",
    "#### Test it over [3, 5, 7, 2, 8, 10, 11, 65, 72, 81, 99, 100, 150] and window of 3."
   ]
  },
  {
   "cell_type": "code",
   "execution_count": 19,
   "id": "93d06ca6",
   "metadata": {},
   "outputs": [
    {
     "name": "stdout",
     "output_type": "stream",
     "text": [
      "[  5.           4.66666667   5.66666667   6.66666667   9.66666667\n",
      "  28.66666667  49.33333333  72.66666667  84.          93.33333333\n",
      " 116.33333333]\n"
     ]
    }
   ],
   "source": [
    "import numpy as np\n",
    "def movin_avg(x,n=3):\n",
    "    func=np.cumsum(x,dtype=float)\n",
    "    func[n:]=func[n:] - func[:-n]\n",
    "    return func[n-1:]/n\n",
    "x=[3,5,7,2,8,10,11,65,72,81,99,100,150]\n",
    "print(movin_avg(x,n=3))\n"
   ]
  },
  {
   "cell_type": "code",
   "execution_count": null,
   "id": "59340f88",
   "metadata": {},
   "outputs": [],
   "source": []
  }
 ],
 "metadata": {
  "kernelspec": {
   "display_name": "Python 3",
   "language": "python",
   "name": "python3"
  },
  "language_info": {
   "codemirror_mode": {
    "name": "ipython",
    "version": 3
   },
   "file_extension": ".py",
   "mimetype": "text/x-python",
   "name": "python",
   "nbconvert_exporter": "python",
   "pygments_lexer": "ipython3",
   "version": "3.8.8"
  }
 },
 "nbformat": 4,
 "nbformat_minor": 5
}
